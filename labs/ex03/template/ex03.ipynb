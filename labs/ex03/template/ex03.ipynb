{
 "cells": [
  {
   "cell_type": "code",
   "execution_count": 9,
   "metadata": {},
   "outputs": [
    {
     "name": "stdout",
     "output_type": "stream",
     "text": [
      "The autoreload extension is already loaded. To reload it, use:\n",
      "  %reload_ext autoreload\n"
     ]
    }
   ],
   "source": [
    "# Useful starting lines\n",
    "%matplotlib inline\n",
    "import numpy as np\n",
    "import matplotlib.pyplot as plt\n",
    "%load_ext autoreload\n",
    "%autoreload 2"
   ]
  },
  {
   "cell_type": "markdown",
   "metadata": {},
   "source": [
    "# 1 Least squares and linear basis functions models\n",
    "## 1.1 Least squares"
   ]
  },
  {
   "cell_type": "code",
   "execution_count": 10,
   "metadata": {},
   "outputs": [],
   "source": [
    "def compute_mse(y, tx, w):\n",
    "    e = y - tx.dot(w)\n",
    "    sum2 = e.T.dot(e)\n",
    "    return sum2 / len(y)\n",
    "\n",
    "def least_squares(y, tx):\n",
    "    \"\"\"calculate the least squares solution.\"\"\"\n",
    "    lstsq = np.linalg.lstsq(tx, y)[0]\n",
    "    return compute_mse(y, tx, lstsq), lstsq"
   ]
  },
  {
   "cell_type": "markdown",
   "metadata": {},
   "source": [
    "### Load the data\n",
    "Here we will reuse the dataset `height_weight_genders.csv` from previous exercise section to check the correctness of your implementation. Please compare it with your previous result."
   ]
  },
  {
   "cell_type": "code",
   "execution_count": 11,
   "metadata": {},
   "outputs": [],
   "source": [
    "from helpers import *\n",
    "\n",
    "def test_your_least_squares():\n",
    "    height, weight, gender = load_data_from_ex02(sub_sample=False, add_outlier=False)\n",
    "    x, mean_x, std_x = standardize(height)\n",
    "    y, tx = build_model_data(x, weight)\n",
    "    \n",
    "    print(least_squares(y, tx))"
   ]
  },
  {
   "cell_type": "markdown",
   "metadata": {},
   "source": [
    "Test it here"
   ]
  },
  {
   "cell_type": "code",
   "execution_count": 12,
   "metadata": {},
   "outputs": [
    {
     "name": "stdout",
     "output_type": "stream",
     "text": [
      "(30.771775737658817, array([ 73.293922  ,  13.47971243]))\n"
     ]
    }
   ],
   "source": [
    "test_your_least_squares()"
   ]
  },
  {
   "cell_type": "markdown",
   "metadata": {},
   "source": [
    "## 1.2 Least squares with a linear basis function model\n",
    "Start from this section, we will use the dataset `dataEx3.csv`.\n",
    "\n",
    "### Implement polynomial basis functions"
   ]
  },
  {
   "cell_type": "code",
   "execution_count": 13,
   "metadata": {
    "scrolled": false
   },
   "outputs": [
    {
     "name": "stdout",
     "output_type": "stream",
     "text": [
      "shape of x (50,)\n",
      "shape of y (50,)\n"
     ]
    }
   ],
   "source": [
    "# load dataset\n",
    "x, y = load_data()\n",
    "print(\"shape of x {}\".format(x.shape))\n",
    "print(\"shape of y {}\".format(y.shape))"
   ]
  },
  {
   "cell_type": "code",
   "execution_count": 50,
   "metadata": {},
   "outputs": [
    {
     "name": "stdout",
     "output_type": "stream",
     "text": [
      "[[  1.00000000e+00   3.52374910e-01   1.24168077e-01   4.37537150e-02\n",
      "    1.54177114e-02   5.43281467e-03   1.91438758e-03   6.74582151e-04\n",
      "    2.37705825e-04   8.37615686e-05   2.95154752e-05   1.04005129e-05\n",
      "    3.66487980e-06]\n",
      " [  1.00000000e+00   4.89512330e+00   2.39622321e+01   1.17298081e+02\n",
      "    5.74188568e+02   2.81072384e+03   1.37588397e+04   6.73512170e+04\n",
      "    3.29692511e+05   1.61388549e+06   7.90016848e+06   3.86722988e+07\n",
      "    1.89305671e+08]\n",
      " [  1.00000000e+00   1.86662437e+00   3.48428655e+00   6.50385420e+00\n",
      "    1.21402528e+01   2.26612917e+01   4.23001194e+01   7.89584339e+01\n",
      "    1.47385737e+02   2.75113809e+02   5.13534141e+02   9.58575345e+02\n",
      "    1.78930010e+03]\n",
      " [  1.00000000e+00   3.50706129e+00   1.22994789e+01   4.31350264e+01\n",
      "    1.51277181e+02   5.30538347e+02   1.86063050e+03   6.52534521e+03\n",
      "    2.28847856e+04   8.02583457e+04   2.81470938e+05   9.87135831e+05\n",
      "    3.46194586e+06]\n",
      " [  1.00000000e+00   3.38087384e+00   1.14303079e+01   3.86444289e+01\n",
      "    1.30651939e+02   4.41717721e+02   1.49339188e+03   5.04896955e+03\n",
      "    1.70699291e+04   5.77112765e+04   1.95114545e+05   6.59657660e+05\n",
      "    2.23021932e+06]\n",
      " [  1.00000000e+00   7.30937276e-01   5.34269301e-01   3.90517348e-01\n",
      "    2.85443686e-01   2.08641431e-01   1.52503799e-01   1.11470711e-01\n",
      "    8.14780981e-02   5.95553791e-02   4.35312466e-02   3.18186108e-02\n",
      "    2.32574087e-02]\n",
      " [  1.00000000e+00   3.88562366e+00   1.50980712e+01   5.86654226e+01\n",
      "    2.27951754e+02   8.85734728e+02   3.44163181e+03   1.33728860e+04\n",
      "    5.19620022e+04   2.01904785e+05   7.84526009e+05   3.04837282e+06\n",
      "    1.18448295e+07]\n",
      " [  1.00000000e+00   5.65224803e+00   3.19479078e+01   1.80577499e+02\n",
      "    1.02066881e+03   5.76907329e+03   3.26082331e+04   1.84309822e+05\n",
      "    1.04176483e+06   5.88831319e+06   3.32822066e+07   1.88119287e+08\n",
      "    1.06329687e+09]\n",
      " [  1.00000000e+00   6.28318531e+00   3.94784176e+01   2.48050213e+02\n",
      "    1.55854546e+03   9.79262991e+03   6.15289084e+04   3.86597533e+05\n",
      "    2.42906394e+06   1.52622589e+07   9.58956006e+07   6.02529829e+08\n",
      "    3.78580657e+09]\n",
      " [  1.00000000e+00   2.37137419e+00   5.62341557e+00   1.33352226e+01\n",
      "    3.16228027e+01   7.49894981e+01   1.77828161e+02   4.21697111e+02\n",
      "    1.00000165e+03   2.37137810e+03   5.62342483e+03   1.33352445e+04\n",
      "    3.16228547e+04]\n",
      " [  1.00000000e+00   6.04749821e-01   3.65722346e-01   2.21170523e-01\n",
      "    1.33752834e-01   8.08870026e-02   4.89164004e-02   2.95821844e-02\n",
      "    1.78898207e-02   1.08188659e-02   6.54270720e-03   3.95670101e-03\n",
      "    2.39281422e-03]\n",
      " [  1.00000000e+00   3.63324875e+00   1.32004965e+01   4.79606872e+01\n",
      "    1.74253107e+02   6.33104882e+02   2.30022752e+03   8.35729875e+03\n",
      "    3.03641452e+04   1.10320493e+05   4.00821791e+05   1.45628527e+06\n",
      "    5.29104663e+06]\n",
      " [  1.00000000e+00   8.57124731e-01   7.34662804e-01   6.29697659e-01\n",
      "    5.39729436e-01   4.62615448e-01   3.96519141e-01   3.39866362e-01\n",
      "    2.91307864e-01   2.49687175e-01   2.14013053e-01   1.83435880e-01\n",
      "    1.57227429e-01]\n",
      " [  1.00000000e+00   2.49756165e+00   6.23781420e+00   1.55793255e+01\n",
      "    3.89103259e+01   9.71809379e+01   2.42715383e+02   6.06196634e+02\n",
      "    1.51401346e+03   3.78134197e+03   9.44413468e+03   2.35873086e+04\n",
      "    5.89107574e+04]\n",
      " [  1.00000000e+00   1.61424946e+00   2.60580133e+00   4.20641340e+00\n",
      "    6.79020057e+00   1.09610776e+01   1.76939137e+01   2.85623906e+01\n",
      "    4.61068237e+01   7.44279154e+01   1.20145223e+02   1.93944361e+02\n",
      "    3.13074580e+02]\n",
      " [  1.00000000e+00   5.39987312e+00   2.91586297e+01   1.57452901e+02\n",
      "    8.50225687e+02   4.59111083e+03   2.47914160e+04   1.33870501e+05\n",
      "    7.22883718e+05   3.90348036e+06   2.10782987e+07   1.13820138e+08\n",
      "    6.14614306e+08]\n",
      " [  1.00000000e+00   6.15699785e+00   3.79086225e+01   2.33403308e+02\n",
      "    1.43706366e+03   8.84799789e+03   5.44771040e+04   3.35415412e+05\n",
      "    2.06515197e+06   1.27151363e+07   7.82870667e+07   4.82013301e+08\n",
      "    2.96775486e+09]\n",
      " [  1.00000000e+00   6.03081040e+00   3.63706740e+01   2.19344639e+02\n",
      "    1.32282593e+03   7.97771237e+03   4.81120707e+04   2.90154776e+05\n",
      "    1.74986844e+06   1.05531248e+07   6.36438947e+07   3.83824262e+08\n",
      "    2.31477135e+09]\n",
      " [  1.00000000e+00   4.78562366e-01   2.29021938e-01   1.09601281e-01\n",
      "    5.24510482e-02   2.51010977e-02   1.20124407e-02   5.74870205e-03\n",
      "    2.75111245e-03   1.31657888e-03   6.30065106e-04   3.01525448e-04\n",
      "    1.44298732e-04]\n",
      " [  1.00000000e+00   2.87612401e+00   8.27208935e+00   2.37915548e+01\n",
      "    6.84274622e+01   1.96805867e+02   5.66038081e+02   1.62799572e+03\n",
      "    4.68231758e+03   1.34669261e+04   3.87325494e+04   1.11399616e+05\n",
      "    3.20399110e+05]\n",
      " [  1.00000000e+00   4.51656093e+00   2.03993227e+01   9.21347839e+01\n",
      "    4.16132365e+02   1.87948719e+03   8.48881840e+03   3.83402655e+04\n",
      "    1.73166146e+05   7.82115448e+05   3.53247208e+06   1.59546254e+07\n",
      "    7.20600378e+07]\n",
      " [  1.00000000e+00   9.83312187e-01   9.66902857e-01   9.50767363e-01\n",
      "    9.34901135e-01   9.19299680e-01   9.03958579e-01   8.88873487e-01\n",
      "    8.74040132e-01   8.59454314e-01   8.45111901e-01   8.31008832e-01\n",
      "    8.17141112e-01]\n",
      " [  1.00000000e+00   1.10949964e+00   1.23098946e+00   1.36578236e+00\n",
      "    1.51533504e+00   1.68126368e+00   1.86536146e+00   2.06961787e+00\n",
      "    2.29624028e+00   2.54767777e+00   2.82664758e+00   3.13616447e+00\n",
      "    3.47957336e+00]\n",
      " [  1.00000000e+00   1.00000000e-01   1.00000000e-02   1.00000000e-03\n",
      "    1.00000000e-04   1.00000000e-05   1.00000000e-06   1.00000000e-07\n",
      "    1.00000000e-08   1.00000000e-09   1.00000000e-10   1.00000000e-11\n",
      "    1.00000000e-12]\n",
      " [  1.00000000e+00   2.11899928e+00   4.49015797e+00   9.51464151e+00\n",
      "    2.01615186e+01   4.27222434e+01   9.05284031e+01   1.91829621e+02\n",
      "    4.06486830e+02   8.61345303e+02   1.82519008e+03   3.86757647e+03\n",
      "    8.19539178e+03]\n",
      " [  1.00000000e+00   1.36187455e+00   1.85470230e+00   2.52587186e+00\n",
      "    3.43992060e+00   4.68474033e+00   6.38002864e+00   8.68879865e+00\n",
      "    1.18330538e+01   1.61151348e+01   2.19467920e+01   2.98887775e+01\n",
      "    4.07047655e+01]\n",
      " [  1.00000000e+00   4.01181111e+00   1.60946284e+01   6.45686091e+01\n",
      "    2.59037064e+02   1.03920777e+03   4.16910528e+03   1.67256629e+04\n",
      "    6.71002003e+04   2.69193329e+05   1.07995279e+06   4.33256660e+06\n",
      "    1.73814388e+07]\n",
      " [  1.00000000e+00   5.77843549e+00   3.33903167e+01   1.92943791e+02\n",
      "    1.11491325e+03   6.44245427e+03   3.72273064e+04   2.15115588e+05\n",
      "    1.24303155e+06   7.18277761e+06   4.15052170e+07   2.39835219e+08\n",
      "    1.38587234e+09]\n",
      " [  1.00000000e+00   4.26418602e+00   1.81832824e+01   7.75368988e+01\n",
      "    3.30631760e+02   1.40987533e+03   6.01197068e+03   2.56361613e+04\n",
      "    1.09317361e+05   4.66149562e+05   1.98774845e+06   8.47612915e+06\n",
      "    3.61437915e+07]\n",
      " [  1.00000000e+00   1.23568710e+00   1.52692260e+00   1.88679856e+00\n",
      "    2.33149263e+00   2.88099536e+00   3.56000879e+00   4.39905693e+00\n",
      "    5.43585789e+00   6.71701946e+00   8.30013427e+00   1.02563688e+01\n",
      "    1.26736626e+01]\n",
      " [  1.00000000e+00   2.24518674e+00   5.04086349e+00   1.13176799e+01\n",
      "    2.54103048e+01   5.70508793e+01   1.28089878e+02   2.87585695e+02\n",
      "    6.45683588e+02   1.44968023e+03   3.25480283e+03   7.30764014e+03\n",
      "    1.64070167e+04]\n",
      " [  1.00000000e+00   1.99281183e+00   3.97129899e+00   7.91405160e+00\n",
      "    1.57712156e+01   3.14290651e+01   6.26322127e+01   1.24814214e+02\n",
      "    2.48731243e+02   4.95674562e+02   9.87786131e+02   1.96847189e+03\n",
      "    3.92279406e+03]\n",
      " [  1.00000000e+00   1.48806201e+00   2.21432854e+00   3.29505817e+00\n",
      "    4.90325088e+00   7.29634135e+00   1.08574084e+01   1.61564969e+01\n",
      "    2.40418692e+01   3.57757922e+01   5.32365971e+01   7.92193576e+01\n",
      "    1.17883316e+02]\n",
      " [  1.00000000e+00   4.64274839e+00   2.15551126e+01   1.00074964e+02\n",
      "    4.64622879e+02   2.15712712e+03   1.00149985e+04   4.64971181e+04\n",
      "    2.15874420e+05   1.00225062e+06   4.65319743e+06   2.16036249e+07\n",
      "    1.00300195e+08]\n",
      " [  1.00000000e+00   4.39037348e+00   1.92753793e+01   8.46261140e+01\n",
      "    3.71540246e+02   1.63120044e+03   7.16157916e+03   3.14420072e+04\n",
      "    1.38042155e+05   6.06056614e+05   2.66081489e+06   1.16819711e+07\n",
      "    5.12882161e+07]\n",
      " [  1.00000000e+00   3.00231147e+00   9.01387417e+00   2.70624578e+01\n",
      "    8.12499275e+01   2.43937589e+02   7.32376623e+02   2.19882274e+03\n",
      "    6.60155072e+03   1.98199115e+04   5.95055475e+04   1.78654188e+05\n",
      "    5.36375518e+05]\n",
      " [  1.00000000e+00   2.26187455e-01   5.11607648e-02   1.15719232e-02\n",
      "    2.61742385e-03   5.92028440e-04   1.33909406e-04   3.02886278e-05\n",
      "    6.85090764e-06   1.54958936e-06   3.50497674e-07   7.92781769e-08\n",
      "    1.79317291e-08]\n",
      " [  1.00000000e+00   5.27368567e+00   2.78117605e+01   1.46670483e+02\n",
      "    7.73494022e+02   4.07916433e+03   2.15122305e+04   1.13448741e+05\n",
      "    5.98293002e+05   3.15520923e+06   1.66395817e+07   8.77519233e+07\n",
      "    4.62776060e+08]\n",
      " [  1.00000000e+00   5.02131076e+00   2.52135617e+01   1.26605129e+02\n",
      "    6.35723694e+02   3.19216622e+03   1.60288586e+04   8.04858799e+04\n",
      "    4.04144614e+05   2.02933570e+06   1.01899252e+07   5.11667809e+07\n",
      "    2.56924307e+08]\n",
      " [  1.00000000e+00   5.52606058e+00   3.05373455e+01   1.68751221e+02\n",
      "    9.32529470e+02   5.15321434e+03   2.84769746e+04   1.57365487e+05\n",
      "    8.69611212e+05   4.80552423e+06   2.65556180e+07   1.46747954e+08\n",
      "    8.10938082e+08]\n",
      " [  1.00000000e+00   2.62374910e+00   6.88405937e+00   1.80620446e+01\n",
      "    4.73902734e+01   1.24340187e+02   3.26237455e+02   8.55965231e+02\n",
      "    2.24583801e+03   5.89251547e+03   1.54604822e+04   4.05644263e+04\n",
      "    1.06430877e+05]\n",
      " [  1.00000000e+00   4.76893584e+00   2.27427491e+01   1.08458711e+02\n",
      "    5.17232636e+02   2.46664926e+03   1.17632921e+04   5.60983851e+04\n",
      "    2.67529600e+05   1.27583150e+06   6.08435856e+06   2.90159156e+07\n",
      "    1.38375040e+08]\n",
      " [  1.00000000e+00   3.12849893e+00   9.78750553e+00   3.06202005e+01\n",
      "    9.57952645e+01   2.99695382e+02   9.37596681e+02   2.93327021e+03\n",
      "    9.17673270e+03   2.87093984e+04   8.98173221e+04   2.80993396e+05\n",
      "    8.79087536e+05]\n",
      " [  1.00000000e+00   1.74043692e+00   3.02912067e+00   5.27199344e+00\n",
      "    9.17557201e+00   1.59695043e+01   2.77939148e+01   4.83735554e+01\n",
      "    8.41911216e+01   1.46529336e+02   2.55025066e+02   4.43855041e+02\n",
      "    7.72501699e+02]\n",
      " [  1.00000000e+00   3.75943620e+00   1.41333606e+01   5.31334673e+01\n",
      "    1.99751881e+02   7.50954451e+02   2.82316535e+03   1.06135100e+04\n",
      "    3.99008138e+04   1.50004564e+05   5.63932588e+05   2.12006859e+06\n",
      "    7.97026260e+06]\n",
      " [  1.00000000e+00   3.25468638e+00   1.05929834e+01   3.44768389e+01\n",
      "    1.12211298e+02   3.65212584e+02   1.18865242e+03   3.86869085e+03\n",
      "    1.25913754e+04   4.09809781e+04   1.33380231e+05   4.34110823e+05\n",
      "    1.41289458e+06]\n",
      " [  1.00000000e+00   5.90462294e+00   3.48645721e+01   2.05862152e+02\n",
      "    1.21553839e+03   7.17729584e+03   4.23792257e+04   2.50233348e+05\n",
      "    1.47753357e+06   8.72427860e+06   5.15135756e+07   3.04168240e+08\n",
      "    1.79599877e+09]\n",
      " [  1.00000000e+00   4.13799857e+00   1.71230321e+01   7.08550825e+01\n",
      "    2.93198230e+02   1.21325386e+03   5.02044272e+03   2.07745848e+04\n",
      "    8.59652021e+04   3.55723883e+05   1.47198492e+06   6.09107148e+06\n",
      "    2.52048451e+07]\n",
      " [  1.00000000e+00   2.74993656e+00   7.56215108e+00   2.07954357e+01\n",
      "    5.71861290e+01   1.57258227e+02   4.32450148e+02   1.18921047e+03\n",
      "    3.27025335e+03   8.99298925e+03   2.47301499e+04   6.80063434e+04\n",
      "    1.87013130e+05]\n",
      " [  1.00000000e+00   5.14749821e+00   2.64967378e+01   1.36391911e+02\n",
      "    7.02077115e+02   3.61394069e+03   1.86027533e+04   9.57576391e+04\n",
      "    4.92912276e+05   2.53726506e+06   1.30605673e+07   6.72292470e+07\n",
      "    3.46062429e+08]]\n"
     ]
    }
   ],
   "source": [
    "# in build_poly.py\n",
    "print(build_poly(x, 12))"
   ]
  },
  {
   "cell_type": "markdown",
   "metadata": {},
   "source": [
    "Let us play with polynomial regression. Note that we will use your implemented function `compute_mse`. Please copy and paste your implementation from exercise02."
   ]
  },
  {
   "cell_type": "code",
   "execution_count": 28,
   "metadata": {},
   "outputs": [],
   "source": [
    "from plots import *\n",
    "\n",
    "def polynomial_regression():\n",
    "    \"\"\"Constructing the polynomial basis function expansion of the data,\n",
    "       and then running least squares regression.\"\"\"\n",
    "    # define parameters\n",
    "    degrees = [1, 3, 7, 10, 12, 15]\n",
    "    \n",
    "    # define the structure of the figure\n",
    "    num_row = 2\n",
    "    num_col = 3\n",
    "    f, axs = plt.subplots(num_row, num_col)\n",
    "\n",
    "    for ind, degree in enumerate(degrees):\n",
    "        poly = build_poly(x, degree)\n",
    "        mse, weights = least_squares(y, poly)\n",
    "        rmse = np.sqrt(mse)\n",
    "        \n",
    "\n",
    "        print(\"Processing {i}th experiment, degree={d}, rmse={loss}\".format(\n",
    "              i=ind + 1, d=degree, loss=rmse))\n",
    "        # plot fit\n",
    "        plot_fitted_curve(\n",
    "            y, x, weights, degree, axs[ind // num_col][ind % num_col])\n",
    "    plt.tight_layout()\n",
    "    plt.savefig(\"visualize_polynomial_regression\")\n",
    "    plt.show()"
   ]
  },
  {
   "cell_type": "markdown",
   "metadata": {},
   "source": [
    "Run polynomial regression"
   ]
  },
  {
   "cell_type": "code",
   "execution_count": 29,
   "metadata": {},
   "outputs": [
    {
     "name": "stdout",
     "output_type": "stream",
     "text": [
      "Processing 1th experiment, degree=1, rmse=0.47187607963421885\n",
      "Processing 2th experiment, degree=3, rmse=0.25858277667737495\n",
      "Processing 3th experiment, degree=7, rmse=0.24965870360907777\n",
      "Processing 4th experiment, degree=10, rmse=0.2482157893656872\n",
      "Processing 5th experiment, degree=12, rmse=0.24032507464434785\n",
      "Processing 6th experiment, degree=15, rmse=0.2330486119487621\n"
     ]
    },
    {
     "data": {
      "image/png": "[encoded data removed]",
      "text/plain": [
       "<matplotlib.figure.Figure at 0x13a2c90>"
      ]
     },
     "metadata": {},
     "output_type": "display_data"
    }
   ],
   "source": [
    "polynomial_regression()"
   ]
  },
  {
   "cell_type": "markdown",
   "metadata": {},
   "source": [
    "# 2 Evaluating model predication performance\n",
    "\n",
    "\n",
    "Let us show the train and test splits for various polynomial degrees. First of all, please fill in the function `split_data()`"
   ]
  },
  {
   "cell_type": "code",
   "execution_count": 49,
   "metadata": {},
   "outputs": [
    {
     "name": "stdout",
     "output_type": "stream",
     "text": [
      "(40,)\n"
     ]
    }
   ],
   "source": [
    "def split_data(x, y, ratio, seed=1):\n",
    "    \"\"\"\n",
    "    split the dataset based on the split ratio. If ratio is 0.8 \n",
    "    you will have 80% of your data set dedicated to training \n",
    "    and the rest dedicated to testing\n",
    "    \"\"\"\n",
    "    # set seed\n",
    "    np.random.seed(seed)\n",
    "    zipped = np.dstack((x, y))[0]\n",
    "    np.random.shuffle(zipped)\n",
    "    \n",
    "    pivot = int(np.round(len(zipped) * ratio))\n",
    "    return zipped[:pivot].T, zipped[pivot:].T\n"
   ]
  },
  {
   "cell_type": "markdown",
   "metadata": {},
   "source": [
    "Then, test your `split_data` function below."
   ]
  },
  {
   "cell_type": "code",
   "execution_count": 70,
   "metadata": {},
   "outputs": [],
   "source": [
    "def train_test_split_demo(x, y, degree, ratio, seed):\n",
    "    \"\"\"polynomial regression with different split ratios and different degrees.\"\"\"\n",
    "    \n",
    "    (train_x, train_y), (test_x, test_y) = split_data(x, y, ratio, seed)\n",
    "    \n",
    "    train_poly = build_poly(train_x, degree)\n",
    "    test_poly  = build_poly(test_x, degree)\n",
    "   \n",
    "    \n",
    "    train_mse, train_lstsq = least_squares(train_y, train_poly)\n",
    "    test_mse = compute_mse(test_y, test_poly, train_lstsq)\n",
    "    \n",
    "    rmse_tr = np.sqrt(train_mse)\n",
    "    rmse_te = np.sqrt(test_mse)\n",
    "    \n",
    "    print(\"proportion={p}, degree={d}, Training RMSE={tr:.3f}, Testing RMSE={te:.3f}\".format(\n",
    "          p=ratio, d=degree, tr=rmse_tr, te=rmse_te))\n"
   ]
  },
  {
   "cell_type": "code",
   "execution_count": 71,
   "metadata": {},
   "outputs": [
    {
     "name": "stdout",
     "output_type": "stream",
     "text": [
      "proportion=0.9, degree=1, Training RMSE=0.494, Testing RMSE=0.181\n",
      "proportion=0.9, degree=3, Training RMSE=0.264, Testing RMSE=0.206\n",
      "proportion=0.9, degree=7, Training RMSE=0.254, Testing RMSE=0.220\n",
      "proportion=0.9, degree=12, Training RMSE=0.242, Testing RMSE=0.250\n",
      "proportion=0.5, degree=1, Training RMSE=0.455, Testing RMSE=0.531\n",
      "proportion=0.5, degree=3, Training RMSE=0.239, Testing RMSE=0.296\n",
      "proportion=0.5, degree=7, Training RMSE=0.232, Testing RMSE=0.284\n",
      "proportion=0.5, degree=12, Training RMSE=0.205, Testing RMSE=1.065\n",
      "proportion=0.1, degree=1, Training RMSE=0.428, Testing RMSE=0.534\n",
      "proportion=0.1, degree=3, Training RMSE=0.085, Testing RMSE=0.460\n",
      "proportion=0.1, degree=7, Training RMSE=0.000, Testing RMSE=2.202\n",
      "proportion=0.1, degree=12, Training RMSE=0.000, Testing RMSE=10.218\n"
     ]
    }
   ],
   "source": [
    "seed = 6\n",
    "degrees = [1, 3, 7, 12]\n",
    "split_ratios = [0.9, 0.5, 0.1]\n",
    "\n",
    "for split_ratio in split_ratios:\n",
    "    for degree in degrees:\n",
    "        train_test_split_demo(x, y, degree, split_ratio, seed)"
   ]
  },
  {
   "cell_type": "markdown",
   "metadata": {},
   "source": [
    "# 3 Ridge Regression\n",
    "Please fill in the function below."
   ]
  },
  {
   "cell_type": "code",
   "execution_count": 136,
   "metadata": {},
   "outputs": [],
   "source": [
    "def ridge_regression(y, tx, lambda_):\n",
    "    \"\"\"implement ridge regression.\"\"\"\n",
    "    l = lambda_ * 2 * len(y)\n",
    "    xtx = tx.T.dot(tx) # 8x8\n",
    "    ident = np.identity(len(xtx)) * l # 8x8\n",
    "    i = xtx + ident # 8x8\n",
    "    inv = np.linalg.inv(i) # 8x8\n",
    "    a = inv.dot(tx.T)\n",
    "    return a.dot(y)\n"
   ]
  },
  {
   "cell_type": "code",
   "execution_count": 145,
   "metadata": {},
   "outputs": [],
   "source": [
    "def ridge_regression_demo(x, y, degree, ratio, seed):\n",
    "    \"\"\"ridge regression demo.\"\"\"\n",
    "    # define parameter\n",
    "    lambdas = np.logspace(-5, 0, 15)\n",
    "    \n",
    "    (train_x, train_y), (test_x, test_y) = split_data(x, y, ratio, seed)\n",
    "    \n",
    "    train_poly = build_poly(train_x, degree)\n",
    "    test_poly  = build_poly(test_x, degree)\n",
    "\n",
    "    rmse_tr = []\n",
    "    rmse_te = []\n",
    "    for ind, lambda_ in enumerate(lambdas):\n",
    "        # ***************************************************\n",
    "        # INSERT YOUR CODE HERE\n",
    "        # ridge regression with a given lambda\n",
    "        # ***************************************************\n",
    "        ridge = ridge_regression(train_y, train_poly, lambda_)\n",
    "        rmse_tr.append(np.sqrt(compute_mse(train_y, train_poly, ridge)))\n",
    "        rmse_te.append(np.sqrt(compute_mse(test_y, test_poly, ridge)))\n",
    "        print(len(rmse_te))\n",
    "        \n",
    "        print(\"proportion={p}, degree={d}, lambda={l:.3f}, Training RMSE={tr:.3f}, Testing RMSE={te:.3f}\".format(\n",
    "               p=ratio, d=degree, l=lambda_, tr=rmse_tr[ind], te=rmse_te[ind]))\n",
    "        \n",
    "    # Plot the obtained results\n",
    "    plot_train_test(rmse_tr, rmse_te, lambdas, degree)\n",
    "\n"
   ]
  },
  {
   "cell_type": "code",
   "execution_count": 146,
   "metadata": {},
   "outputs": [
    {
     "name": "stdout",
     "output_type": "stream",
     "text": [
      "1\n",
      "proportion=0.5, degree=7, lambda=0.000, Training RMSE=0.227, Testing RMSE=0.338\n",
      "2\n",
      "proportion=0.5, degree=7, lambda=0.000, Training RMSE=0.227, Testing RMSE=0.337\n",
      "3\n",
      "proportion=0.5, degree=7, lambda=0.000, Training RMSE=0.227, Testing RMSE=0.336\n",
      "4\n",
      "proportion=0.5, degree=7, lambda=0.000, Training RMSE=0.227, Testing RMSE=0.335\n",
      "5\n",
      "proportion=0.5, degree=7, lambda=0.000, Training RMSE=0.228, Testing RMSE=0.334\n",
      "6\n",
      "proportion=0.5, degree=7, lambda=0.001, Training RMSE=0.228, Testing RMSE=0.333\n",
      "7\n",
      "proportion=0.5, degree=7, lambda=0.001, Training RMSE=0.229, Testing RMSE=0.329\n",
      "8\n",
      "proportion=0.5, degree=7, lambda=0.003, Training RMSE=0.230, Testing RMSE=0.319\n",
      "9\n",
      "proportion=0.5, degree=7, lambda=0.007, Training RMSE=0.232, Testing RMSE=0.302\n",
      "10\n",
      "proportion=0.5, degree=7, lambda=0.016, Training RMSE=0.237, Testing RMSE=0.283\n",
      "11\n",
      "proportion=0.5, degree=7, lambda=0.037, Training RMSE=0.246, Testing RMSE=0.276\n",
      "12\n",
      "proportion=0.5, degree=7, lambda=0.085, Training RMSE=0.264, Testing RMSE=0.298\n",
      "13\n",
      "proportion=0.5, degree=7, lambda=0.193, Training RMSE=0.291, Testing RMSE=0.348\n",
      "14\n",
      "proportion=0.5, degree=7, lambda=0.439, Training RMSE=0.317, Testing RMSE=0.401\n",
      "15\n",
      "proportion=0.5, degree=7, lambda=1.000, Training RMSE=0.336, Testing RMSE=0.441\n"
     ]
    },
    {
     "data": {
      "image/png": "[encoded data removed]",
      "text/plain": [
       "<matplotlib.figure.Figure at 0x70674d0>"
      ]
     },
     "metadata": {},
     "output_type": "display_data"
    }
   ],
   "source": [
    "seed = 56\n",
    "degree = 7\n",
    "split_ratio = 0.5\n",
    "ridge_regression_demo(x, y, degree, split_ratio, seed)"
   ]
  },
  {
   "cell_type": "code",
   "execution_count": null,
   "metadata": {},
   "outputs": [],
   "source": []
  },
  {
   "cell_type": "code",
   "execution_count": null,
   "metadata": {},
   "outputs": [],
   "source": []
  },
  {
   "cell_type": "code",
   "execution_count": null,
   "metadata": {},
   "outputs": [],
   "source": []
  }
 ],
 "metadata": {
  "anaconda-cloud": {},
  "kernelspec": {
   "display_name": "Python 3",
   "language": "python",
   "name": "python3"
  },
  "language_info": {
   "codemirror_mode": {
    "name": "ipython",
    "version": 3
   },
   "file_extension": ".py",
   "mimetype": "text/x-python",
   "name": "python",
   "nbconvert_exporter": "python",
   "pygments_lexer": "ipython3",
   "version": "3.6.2"
  }
 },
 "nbformat": 4,
 "nbformat_minor": 1
}
